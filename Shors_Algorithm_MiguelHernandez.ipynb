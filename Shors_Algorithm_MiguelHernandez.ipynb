{
 "cells": [
  {
   "cell_type": "markdown",
   "id": "12d80eb4",
   "metadata": {},
   "source": [
    "# Shor's Algorithm Workshop"
   ]
  },
  {
   "cell_type": "markdown",
   "id": "b8310326",
   "metadata": {},
   "source": [
    "\n",
    "## Introduction\n",
    "\n",
    "Shor's algorithm, proposed by Peter Shor in 1994, is a quantum algorithm for integer factorization. Given an integer $N$, it finds its prime factors with polynomial time complexity, which is significantly faster than the best-known classical algorithms that run in super-polynomial time. This efficiency presents a threat to RSA encryption, which relies on the difficulty of factorization.\n",
    "\n",
    "This workshop introduces the fundamentals of Shor's algorithm, explores its quantum mechanics, and demonstrates its implementation using quantum circuits.\n"
   ]
  },
  {
   "cell_type": "markdown",
   "id": "bab26598",
   "metadata": {},
   "source": [
    "# Modular arithmetic\n",
    "\n",
    "Consider $ N, a \\in \\mathbb{N}$ and $ a \\lt N$\n",
    "\n",
    "$ a \\mod N$ is the remainder or residue of the quoatient $a/N$\n",
    "\n",
    "## Examples:\n"
   ]
  },
  {
   "cell_type": "markdown",
   "id": "2b567c80",
   "metadata": {},
   "source": [
    "### 1. Basic Modulo Operation\n",
    "\n",
    "The modulo operation finds the remainder after division of one number by another."
   ]
  },
  {
   "cell_type": "code",
   "execution_count": 1,
   "id": "69c93b75",
   "metadata": {},
   "outputs": [
    {
     "name": "stdout",
     "output_type": "stream",
     "text": [
      "10 mod 3 = 1\n"
     ]
    }
   ],
   "source": [
    "remainder = 10 % 3\n",
    "print(\"10 mod 3 =\", remainder)"
   ]
  },
  {
   "cell_type": "markdown",
   "id": "b38c2778",
   "metadata": {},
   "source": [
    "### 2. Modulo with Negative Numbers\n",
    "\n",
    "Modulo operations involving negative numbers adhere to the sign of the divisor."
   ]
  },
  {
   "cell_type": "code",
   "execution_count": 2,
   "id": "f98fdd07",
   "metadata": {},
   "outputs": [
    {
     "name": "stdout",
     "output_type": "stream",
     "text": [
      "-1 mod 371 = 370\n"
     ]
    }
   ],
   "source": [
    "negative_modulo = -1 % 371  # Remainder when -10 is divided by 3\n",
    "print(\"-1 mod 371 =\", negative_modulo)"
   ]
  },
  {
   "cell_type": "code",
   "execution_count": 3,
   "id": "eb3f7177",
   "metadata": {},
   "outputs": [
    {
     "name": "stdout",
     "output_type": "stream",
     "text": [
      "0 mod 371 = 0\n"
     ]
    }
   ],
   "source": [
    "negative_modulo = 0 % 371  # Remainder when -10 is divided by 3\n",
    "print(\"0 mod 371 =\", negative_modulo)"
   ]
  },
  {
   "cell_type": "markdown",
   "id": "849af989",
   "metadata": {},
   "source": [
    "## Congruence\n",
    "\n",
    "We write $a \\equiv b \\text{ (mod N)}$ si y solo si $(a \\mod N) = (b \\mod N)$\n",
    "\n",
    "or equivalently, $a-b= k N$ with k an integer, i.e., $N|(a-b)$, N is a divisor\n",
    "of $a-b$\n",
    "\n",
    "### Examples:\n",
    "$17 \\equiv 2 \\text{ (mod 15)}$\n",
    "\n",
    "$534 \\equiv 1479 \\text{ (mod 15)}$\n",
    "\n",
    "$3350 \\equiv 2237 \\text{ (mod 371)}$\n",
    "\n",
    "### Exercises\n",
    "\n",
    "Show that:\n",
    "\n",
    "$1977 \\equiv 1 \\text{ (mod 247)}$\n",
    "\n",
    "$16183 \\equiv 15442 \\text{ (mod 247)}$ "
   ]
  },
  {
   "cell_type": "markdown",
   "id": "a7457c24",
   "metadata": {},
   "source": [
    "$1977 \\equiv 1 \\text{ (mod 247)}$ dado que:\n",
    "\n",
    " $(1977 \\mod 247) = 1$ y $(1 \\mod 247) = 1$,\n",
    "\n",
    "por lo tanto cumple con la definición de congruencia. "
   ]
  },
  {
   "cell_type": "code",
   "execution_count": 5,
   "id": "d3a48e76",
   "metadata": {},
   "outputs": [
    {
     "name": "stdout",
     "output_type": "stream",
     "text": [
      "1977 mod 247=  1\n",
      "1 mod 247=  1\n"
     ]
    }
   ],
   "source": [
    "print(\"1977 mod 247= \", 1977 % 247)\n",
    "print(\"1 mod 247= \", 1 % 247)"
   ]
  },
  {
   "cell_type": "markdown",
   "id": "09df647c",
   "metadata": {},
   "source": [
    "## Ejercicio 1:\n",
    "\n",
    "$1977 \\equiv 1 \\text{ (mod 247)}$ dado que:\n",
    "\n",
    " $(1977 \\mod 247) = 1$ y $(1 \\mod 247) = 1$\n",
    "\n",
    "por lo tanto cumple con la definicion de congruencia. El siguiente código verifica el resultado. "
   ]
  },
  {
   "cell_type": "code",
   "execution_count": 10,
   "id": "62a4d5f0",
   "metadata": {},
   "outputs": [
    {
     "name": "stdout",
     "output_type": "stream",
     "text": [
      "1977 mod 247 =  1\n",
      "1 mod 247 =  1\n"
     ]
    }
   ],
   "source": [
    "print(\"1977 mod 247 = \", 1977 % 247)\n",
    "print(\"1 mod 247 = \", 1 % 247)"
   ]
  },
  {
   "cell_type": "markdown",
   "id": "f45a0ea2",
   "metadata": {},
   "source": [
    "## Ejercicio 2:\n",
    "\n",
    "$16183 \\equiv 15442 \\text{ (mod 247)}$ dado que:\n",
    "\n",
    "$(16183 \\mod 247) = 128$ y $(15442 \\mod 247) = 128$,\n",
    "\n",
    "por lo tanto cumple con la definicion de congruencia. El siguiente código verifica el resultado."
   ]
  },
  {
   "cell_type": "code",
   "execution_count": 11,
   "id": "27c84ab4",
   "metadata": {},
   "outputs": [
    {
     "name": "stdout",
     "output_type": "stream",
     "text": [
      "16183 mod 247 =  128\n",
      "15442 mod 247 =  128\n"
     ]
    }
   ],
   "source": [
    "print(\"16183 mod 247 = \", 16183 % 247)\n",
    "print(\"15442 mod 247 = \", 15442 % 247)"
   ]
  },
  {
   "cell_type": "markdown",
   "id": "e57bf292",
   "metadata": {},
   "source": [
    "\n",
    "# Modular exponentiation\n",
    "\n",
    "Suppose we have a number $N$ and we want to know a factor of $N$. To facilitate\n",
    "the task of finding factors of $N$ suppose that $N = 2^n$.\n",
    "\n",
    "Let us randomly choose an integer $a$ that is less than $N$ such that $a$ does\n",
    "not have common factors with N (apart from 1).\n",
    "\n",
    "You can test if $a$ and $N$ have common factors using $GCD(a,N)$. If\n",
    "$GCD(a,N) \\neq 1$ we have found a factor of $N$ and we are done.\n",
    "\n",
    "If $GCD(a,N) = 1$ $a$ and $N$ are called coprimes. If $a$ is coprime with $N$ we\n",
    "can use $a$ for the nest step oof the algorithm.\n",
    "\n",
    "We now need to compute the following function:\n",
    "\n",
    "$f_{a,n}= a^x \\mod N$ for al integers between $0$ and $N$ \n",
    "\n",
    "## Example\n",
    "Consider N=15 and a=2"
   ]
  },
  {
   "cell_type": "code",
   "execution_count": 12,
   "id": "5aebd461",
   "metadata": {},
   "outputs": [
    {
     "name": "stdout",
     "output_type": "stream",
     "text": [
      "Periodo:  4\n",
      "      x   = [ 0  1  2  3  4  5  6  7  8  9 10 11 12 13 14]\n",
      " f(x)_a_N = [1 2 4 8 1 2 4 8 1 2 4 8 1 2 4]\n"
     ]
    },
    {
     "data": {
      "image/png": "[encoded data removed]",
      "text/plain": [
       "<Figure size 640x480 with 1 Axes>"
      ]
     },
     "metadata": {},
     "output_type": "display_data"
    }
   ],
   "source": [
    "import matplotlib.pyplot as plt\n",
    "import numpy as np\n",
    "\n",
    "def powersAModuloN(a,N):\n",
    "    powers = []\n",
    "    for i in range(N):\n",
    "        powers.append(a**i % N)\n",
    "    return powers\n",
    "\n",
    "def periodoDeF(a,N):\n",
    "    powers =powersAModuloN(a,N)\n",
    "    return powers.index(1,1)\n",
    "\n",
    "\n",
    "def computeAndDrawPowersAModuloN(a,N):\n",
    "    powers_a_N = powersAModuloN(a,N)\n",
    "    print(\"Periodo: \", periodoDeF(a, N))\n",
    "    xpoints = np.array(range(N))\n",
    "    ypoints = np.array(powers_a_N)\n",
    "\n",
    "    print(\"      x   =\", xpoints)\n",
    "    print(\" f(x)_a_N =\", ypoints)\n",
    "    plt.bar(xpoints, ypoints)\n",
    "    plt.show()\n",
    "\n",
    "N = 15\n",
    "a = 2\n",
    "computeAndDrawPowersAModuloN(a,N)"
   ]
  },
  {
   "cell_type": "code",
   "execution_count": 13,
   "id": "9c1239f9",
   "metadata": {},
   "outputs": [
    {
     "name": "stdout",
     "output_type": "stream",
     "text": [
      "Periodo:  2\n",
      "      x   = [ 0  1  2  3  4  5  6  7  8  9 10 11 12 13 14]\n",
      " f(x)_a_N = [1 4 1 4 1 4 1 4 1 4 1 4 1 4 1]\n"
     ]
    },
    {
     "data": {
      "image/png": "[encoded data removed]",
      "text/plain": [
       "<Figure size 640x480 with 1 Axes>"
      ]
     },
     "metadata": {},
     "output_type": "display_data"
    }
   ],
   "source": [
    "N = 15\n",
    "a = 4\n",
    "computeAndDrawPowersAModuloN(a,N)"
   ]
  },
  {
   "cell_type": "code",
   "execution_count": 14,
   "id": "451fe0c0",
   "metadata": {},
   "outputs": [
    {
     "name": "stdout",
     "output_type": "stream",
     "text": [
      "Periodo:  4\n",
      "      x   = [ 0  1  2  3  4  5  6  7  8  9 10 11 12 13 14]\n",
      " f(x)_a_N = [ 1 13  4  7  1 13  4  7  1 13  4  7  1 13  4]\n"
     ]
    },
    {
     "data": {
      "image/png": "[encoded data removed]",
      "text/plain": [
       "<Figure size 640x480 with 1 Axes>"
      ]
     },
     "metadata": {},
     "output_type": "display_data"
    }
   ],
   "source": [
    "N = 15\n",
    "a = 13\n",
    "computeAndDrawPowersAModuloN(a,N)"
   ]
  },
  {
   "cell_type": "code",
   "execution_count": 15,
   "id": "d9d3e225",
   "metadata": {},
   "outputs": [
    {
     "name": "stdout",
     "output_type": "stream",
     "text": [
      "Periodo:  156\n",
      "      x   = [  0   1   2   3   4   5   6   7   8   9  10  11  12  13  14  15  16  17\n",
      "  18  19  20  21  22  23  24  25  26  27  28  29  30  31  32  33  34  35\n",
      "  36  37  38  39  40  41  42  43  44  45  46  47  48  49  50  51  52  53\n",
      "  54  55  56  57  58  59  60  61  62  63  64  65  66  67  68  69  70  71\n",
      "  72  73  74  75  76  77  78  79  80  81  82  83  84  85  86  87  88  89\n",
      "  90  91  92  93  94  95  96  97  98  99 100 101 102 103 104 105 106 107\n",
      " 108 109 110 111 112 113 114 115 116 117 118 119 120 121 122 123 124 125\n",
      " 126 127 128 129 130 131 132 133 134 135 136 137 138 139 140 141 142 143\n",
      " 144 145 146 147 148 149 150 151 152 153 154 155 156 157 158 159 160 161\n",
      " 162 163 164 165 166 167 168 169 170 171 172 173 174 175 176 177 178 179\n",
      " 180 181 182 183 184 185 186 187 188 189 190 191 192 193 194 195 196 197\n",
      " 198 199 200 201 202 203 204 205 206 207 208 209 210 211 212 213 214 215\n",
      " 216 217 218 219 220 221 222 223 224 225 226 227 228 229 230 231 232 233\n",
      " 234 235 236 237 238 239 240 241 242 243 244 245 246 247 248 249 250 251\n",
      " 252 253 254 255 256 257 258 259 260 261 262 263 264 265 266 267 268 269\n",
      " 270 271 272 273 274 275 276 277 278 279 280 281 282 283 284 285 286 287\n",
      " 288 289 290 291 292 293 294 295 296 297 298 299 300 301 302 303 304 305\n",
      " 306 307 308 309 310 311 312 313 314 315 316 317 318 319 320 321 322 323\n",
      " 324 325 326 327 328 329 330 331 332 333 334 335 336 337 338 339 340 341\n",
      " 342 343 344 345 346 347 348 349 350 351 352 353 354 355 356 357 358 359\n",
      " 360 361 362 363 364 365 366 367 368 369 370]\n",
      " f(x)_a_N = [  1   2   4   8  16  32  64 128 256 141 282 193  15  30  60 120 240 109\n",
      " 218  65 130 260 149 298 225  79 158 316 261 151 302 233  95 190   9  18\n",
      "  36  72 144 288 205  39  78 156 312 253 135 270 169 338 305 239 107 214\n",
      "  57 114 228  85 170 340 309 247 123 246 121 242 113 226  81 162 324 277\n",
      " 183 366 361 351 331 291 211  51 102 204  37  74 148 296 221  71 142 284\n",
      " 197  23  46  92 184 368 365 359 347 323 275 179 358 345 319 267 163 326\n",
      " 281 191  11  22  44  88 176 352 333 295 219  67 134 268 165 330 289 207\n",
      "  43  86 172 344 317 263 155 310 249 127 254 137 274 177 354 337 303 235\n",
      "  99 198  25  50 100 200  29  58 116 232  93 186   1   2   4   8  16  32\n",
      "  64 128 256 141 282 193  15  30  60 120 240 109 218  65 130 260 149 298\n",
      " 225  79 158 316 261 151 302 233  95 190   9  18  36  72 144 288 205  39\n",
      "  78 156 312 253 135 270 169 338 305 239 107 214  57 114 228  85 170 340\n",
      " 309 247 123 246 121 242 113 226  81 162 324 277 183 366 361 351 331 291\n",
      " 211  51 102 204  37  74 148 296 221  71 142 284 197  23  46  92 184 368\n",
      " 365 359 347 323 275 179 358 345 319 267 163 326 281 191  11  22  44  88\n",
      " 176 352 333 295 219  67 134 268 165 330 289 207  43  86 172 344 317 263\n",
      " 155 310 249 127 254 137 274 177 354 337 303 235  99 198  25  50 100 200\n",
      "  29  58 116 232  93 186   1   2   4   8  16  32  64 128 256 141 282 193\n",
      "  15  30  60 120 240 109 218  65 130 260 149 298 225  79 158 316 261 151\n",
      " 302 233  95 190   9  18  36  72 144 288 205  39  78 156 312 253 135 270\n",
      " 169 338 305 239 107 214  57 114 228  85 170]\n"
     ]
    },
    {
     "data": {
      "image/png": "[encoded data removed]",
      "text/plain": [
       "<Figure size 640x480 with 1 Axes>"
      ]
     },
     "metadata": {},
     "output_type": "display_data"
    }
   ],
   "source": [
    "N = 371\n",
    "a = 2\n",
    "computeAndDrawPowersAModuloN(a,N)"
   ]
  },
  {
   "cell_type": "markdown",
   "id": "70dd0b94",
   "metadata": {},
   "source": [
    "## A more efficient way of computing $f_{a,N}(x)$"
   ]
  },
  {
   "cell_type": "markdown",
   "id": "e8a4aba8",
   "metadata": {},
   "source": [
    "### Can we compute $fa_{a,N}(x)$ more efficiently?\n",
    "\n",
    "if $a \\equiv a' \\text{ (mod N)}$ and $a \\equiv b' \\text{ (mod N)}$, then\n",
    "\n",
    "$$a \\times b \\equiv a' \\times b' \\text{ (mod N)}$$ \n",
    "\n",
    "and\n",
    "\n",
    "$$ (a \\times b) \\mod N = ((a \\mod N) \\times (b\\mod N)) \\mod N$$\n",
    "\n",
    "From this we can write:\n",
    "\n",
    "$$a^x \\mod N = a^{x-1} \\times a \\mod N = ((a^{x-1} \\mod N) \\times (a \\mod N))\n",
    "\\mod N$$\n",
    "\n",
    "where $a \\mod N = a$ because $a < N$, then we can simplify further:\n",
    "\n",
    "$$f_{a,N}(x)=a^x \\mod N = ((a^{x-1} \\mod N) \\times a) \\mod N$$\n",
    "\n",
    "with \n",
    "$$f_{a,N}(0) = a^0 \\mod N = 1$$"
   ]
  },
  {
   "cell_type": "code",
   "execution_count": 19,
   "id": "415d2c43",
   "metadata": {},
   "outputs": [],
   "source": [
    "def powersAModuloNRecursive(a,N):\n",
    "    powers = []\n",
    "    powers.append(1)\n",
    "\n",
    "    for i in range(1, N):\n",
    "        powers.append((powers[i-1] * a) % N)\n",
    "    return powers\n",
    "\n",
    "def computeAndDrawRecursivelyPowersAModuloN(a,N):\n",
    "    powers_a_N = powersAModuloN(a,N)\n",
    "    print(\"Periodo: \", periodoDeF(a, N))\n",
    "    xpoints = np.array(range(N))\n",
    "    ypoints = np.array(powers_a_N)\n",
    "\n",
    "    print(\"      x   =\", xpoints)\n",
    "    print(\" f(x)_a_N =\", ypoints)\n",
    "    plt.bar(xpoints, ypoints)\n",
    "    plt.show()"
   ]
  },
  {
   "cell_type": "code",
   "execution_count": 20,
   "id": "9b6ce50a",
   "metadata": {},
   "outputs": [
    {
     "name": "stdout",
     "output_type": "stream",
     "text": [
      "Periodo:  78\n",
      "      x   = [  0   1   2   3   4   5   6   7   8   9  10  11  12  13  14  15  16  17\n",
      "  18  19  20  21  22  23  24  25  26  27  28  29  30  31  32  33  34  35\n",
      "  36  37  38  39  40  41  42  43  44  45  46  47  48  49  50  51  52  53\n",
      "  54  55  56  57  58  59  60  61  62  63  64  65  66  67  68  69  70  71\n",
      "  72  73  74  75  76  77  78  79  80  81  82  83  84  85  86  87  88  89\n",
      "  90  91  92  93  94  95  96  97  98  99 100 101 102 103 104 105 106 107\n",
      " 108 109 110 111 112 113 114 115 116 117 118 119 120 121 122 123 124 125\n",
      " 126 127 128 129 130 131 132 133 134 135 136 137 138 139 140 141 142 143\n",
      " 144 145 146 147 148 149 150 151 152 153 154 155 156 157 158 159 160 161\n",
      " 162 163 164 165 166 167 168 169 170 171 172 173 174 175 176 177 178 179\n",
      " 180 181 182 183 184 185 186 187 188 189 190 191 192 193 194 195 196 197\n",
      " 198 199 200 201 202 203 204 205 206 207 208 209 210 211 212 213 214 215\n",
      " 216 217 218 219 220 221 222 223 224 225 226 227 228 229 230 231 232 233\n",
      " 234 235 236 237 238 239 240 241 242 243 244 245 246 247 248 249 250 251\n",
      " 252 253 254 255 256 257 258 259 260 261 262 263 264 265 266 267 268 269\n",
      " 270 271 272 273 274 275 276 277 278 279 280 281 282 283 284 285 286 287\n",
      " 288 289 290 291 292 293 294 295 296 297 298 299 300 301 302 303 304 305\n",
      " 306 307 308 309 310 311 312 313 314 315 316 317 318 319 320 321 322 323\n",
      " 324 325 326 327 328 329 330 331 332 333 334 335 336 337 338 339 340 341\n",
      " 342 343 344 345 346 347 348 349 350 351 352 353 354 355 356 357 358 359\n",
      " 360 361 362 363 364 365 366 367 368 369 370]\n",
      " f(x)_a_N = [  1  24 205  97 102 222 134 248  16  13 312  68 148 213 289 258 256 208\n",
      " 169 346 142  69 172  47  15 360 107 342  46 362 155  10 240 195 228 278\n",
      " 365 227 254 160 130 152 309 367 275 293 354 334 225 206 121 307 319 236\n",
      "  99 150 261 328  81  89 281  66 100 174  95  54 183 311  44 314 116 187\n",
      "  36 122 331 153 333 201   1  24 205  97 102 222 134 248  16  13 312  68\n",
      " 148 213 289 258 256 208 169 346 142  69 172  47  15 360 107 342  46 362\n",
      " 155  10 240 195 228 278 365 227 254 160 130 152 309 367 275 293 354 334\n",
      " 225 206 121 307 319 236  99 150 261 328  81  89 281  66 100 174  95  54\n",
      " 183 311  44 314 116 187  36 122 331 153 333 201   1  24 205  97 102 222\n",
      " 134 248  16  13 312  68 148 213 289 258 256 208 169 346 142  69 172  47\n",
      "  15 360 107 342  46 362 155  10 240 195 228 278 365 227 254 160 130 152\n",
      " 309 367 275 293 354 334 225 206 121 307 319 236  99 150 261 328  81  89\n",
      " 281  66 100 174  95  54 183 311  44 314 116 187  36 122 331 153 333 201\n",
      "   1  24 205  97 102 222 134 248  16  13 312  68 148 213 289 258 256 208\n",
      " 169 346 142  69 172  47  15 360 107 342  46 362 155  10 240 195 228 278\n",
      " 365 227 254 160 130 152 309 367 275 293 354 334 225 206 121 307 319 236\n",
      "  99 150 261 328  81  89 281  66 100 174  95  54 183 311  44 314 116 187\n",
      "  36 122 331 153 333 201   1  24 205  97 102 222 134 248  16  13 312  68\n",
      " 148 213 289 258 256 208 169 346 142  69 172  47  15 360 107 342  46 362\n",
      " 155  10 240 195 228 278 365 227 254 160 130 152 309 367 275 293 354 334\n",
      " 225 206 121 307 319 236  99 150 261 328  81]\n"
     ]
    },
    {
     "data": {
      "image/png": "[encoded data removed]",
      "text/plain": [
       "<Figure size 640x480 with 1 Axes>"
      ]
     },
     "metadata": {},
     "output_type": "display_data"
    }
   ],
   "source": [
    "N = 371\n",
    "a = 24\n",
    "computeAndDrawRecursivelyPowersAModuloN(a,N)"
   ]
  },
  {
   "cell_type": "code",
   "execution_count": 18,
   "id": "5dd4dc45",
   "metadata": {},
   "outputs": [
    {
     "name": "stdout",
     "output_type": "stream",
     "text": [
      "Periodo:  26\n",
      "      x   = [  0   1   2   3   4   5   6   7   8   9  10  11  12  13  14  15  16  17\n",
      "  18  19  20  21  22  23  24  25  26  27  28  29  30  31  32  33  34  35\n",
      "  36  37  38  39  40  41  42  43  44  45  46  47  48  49  50  51  52  53\n",
      "  54  55  56  57  58  59  60  61  62  63  64  65  66  67  68  69  70  71\n",
      "  72  73  74  75  76  77  78  79  80  81  82  83  84  85  86  87  88  89\n",
      "  90  91  92  93  94  95  96  97  98  99 100 101 102 103 104 105 106 107\n",
      " 108 109 110 111 112 113 114 115 116 117 118 119 120 121 122 123 124 125\n",
      " 126 127 128 129 130 131 132 133 134 135 136 137 138 139 140 141 142 143\n",
      " 144 145 146 147 148 149 150 151 152 153 154 155 156 157 158 159 160 161\n",
      " 162 163 164 165 166 167 168 169 170 171 172 173 174 175 176 177 178 179\n",
      " 180 181 182 183 184 185 186 187 188 189 190 191 192 193 194 195 196 197\n",
      " 198 199 200 201 202 203 204 205 206 207 208 209 210 211 212 213 214 215\n",
      " 216 217 218 219 220 221 222 223 224 225 226 227 228 229 230 231 232 233\n",
      " 234 235 236 237 238 239 240 241 242 243 244 245 246 247 248 249 250 251\n",
      " 252 253 254 255 256 257 258 259 260 261 262 263 264 265 266 267 268 269\n",
      " 270 271 272 273 274 275 276 277 278 279 280 281 282 283 284 285 286 287\n",
      " 288 289 290 291 292 293 294 295 296 297 298 299 300 301 302 303 304 305\n",
      " 306 307 308 309 310 311 312 313 314 315 316 317 318 319 320 321 322 323\n",
      " 324 325 326 327 328 329 330 331 332 333 334 335 336 337 338 339 340 341\n",
      " 342 343 344 345 346 347 348 349 350 351 352 353 354 355 356 357 358 359\n",
      " 360 361 362 363 364 365 366 367 368 369 370]\n",
      " f(x)_a_N = [  1   6  36 216 183 356 281 202  99 223 225 237 309 370 365 335 155 188\n",
      "  15  90 169 272 148 146 134  62   1   6  36 216 183 356 281 202  99 223\n",
      " 225 237 309 370 365 335 155 188  15  90 169 272 148 146 134  62   1   6\n",
      "  36 216 183 356 281 202  99 223 225 237 309 370 365 335 155 188  15  90\n",
      " 169 272 148 146 134  62   1   6  36 216 183 356 281 202  99 223 225 237\n",
      " 309 370 365 335 155 188  15  90 169 272 148 146 134  62   1   6  36 216\n",
      " 183 356 281 202  99 223 225 237 309 370 365 335 155 188  15  90 169 272\n",
      " 148 146 134  62   1   6  36 216 183 356 281 202  99 223 225 237 309 370\n",
      " 365 335 155 188  15  90 169 272 148 146 134  62   1   6  36 216 183 356\n",
      " 281 202  99 223 225 237 309 370 365 335 155 188  15  90 169 272 148 146\n",
      " 134  62   1   6  36 216 183 356 281 202  99 223 225 237 309 370 365 335\n",
      " 155 188  15  90 169 272 148 146 134  62   1   6  36 216 183 356 281 202\n",
      "  99 223 225 237 309 370 365 335 155 188  15  90 169 272 148 146 134  62\n",
      "   1   6  36 216 183 356 281 202  99 223 225 237 309 370 365 335 155 188\n",
      "  15  90 169 272 148 146 134  62   1   6  36 216 183 356 281 202  99 223\n",
      " 225 237 309 370 365 335 155 188  15  90 169 272 148 146 134  62   1   6\n",
      "  36 216 183 356 281 202  99 223 225 237 309 370 365 335 155 188  15  90\n",
      " 169 272 148 146 134  62   1   6  36 216 183 356 281 202  99 223 225 237\n",
      " 309 370 365 335 155 188  15  90 169 272 148 146 134  62   1   6  36 216\n",
      " 183 356 281 202  99 223 225 237 309 370 365 335 155 188  15  90 169 272\n",
      " 148 146 134  62   1   6  36 216 183 356 281]\n"
     ]
    },
    {
     "data": {
      "image/png": "[encoded data removed]",
      "text/plain": [
       "<Figure size 640x480 with 1 Axes>"
      ]
     },
     "metadata": {},
     "output_type": "display_data"
    }
   ],
   "source": [
    "N = 371\n",
    "a = 6\n",
    "computeAndDrawRecursivelyPowersAModuloN(a,N)"
   ]
  },
  {
   "cell_type": "markdown",
   "id": "e573ff52",
   "metadata": {},
   "source": [
    "## Finding the period of $f_{a,N}$"
   ]
  },
  {
   "cell_type": "markdown",
   "id": "0dd500fb",
   "metadata": {},
   "source": [
    "What we need is the period of the function, i.e., we need to find the\n",
    "smallest $r > 0$ such that\n",
    "\n",
    "$$ f_{a,N}(r) = a^r \\mod N = 1$$\n",
    "we can do this by simple inspection of the figures.\n",
    "\n",
    "## Example"
   ]
  },
  {
   "cell_type": "code",
   "execution_count": 21,
   "id": "40fc9d47",
   "metadata": {},
   "outputs": [
    {
     "name": "stdout",
     "output_type": "stream",
     "text": [
      "Periodo:  26\n"
     ]
    }
   ],
   "source": [
    "N = 371\n",
    "a = 6\n",
    "\n",
    "print(\"Periodo: \", periodoDeF(a, N))"
   ]
  },
  {
   "cell_type": "markdown",
   "id": "28c49846",
   "metadata": {},
   "source": [
    "A theorem of number theory says that for any co-prime $a≤ N$, the function\n",
    "$f_{a, N} will output a 1 for some $r < N$. After this, the sequence of numbers\n",
    "will repeat. \n",
    "\n",
    "If $f_{a, N}(r) = 1$, then\n",
    "\n",
    "$$ f_{a,N}(x+r) = f_{a,N}(x) $$\n"
   ]
  },
  {
   "cell_type": "markdown",
   "id": "c19c12b2",
   "metadata": {},
   "source": [
    "## From the Period to factors\n",
    "\n",
    "We need an even number as period. If the period is not even choose another $a$\n",
    "and repeat the calculation.\n",
    "\n",
    "With the information of the period $r$ we can now compute the factors follows:\n",
    "\n",
    "We know that \n",
    "\n",
    "$a^r \\equiv 1 \\text{ ( mod N)}$\n",
    "\n",
    "subtract 1 from both sides\n",
    "\n",
    "$a^r -1 \\equiv 0 \\text{ ( mod N)}$\n",
    "\n",
    "Thus, $N$ is a divisor of $a^r -1 $\n",
    "\n",
    "$ N|(a^r -1)$\n",
    "\n",
    "We know that $x^2 - y^2 = (x+y)(x-y)$, then we can rewrite\n",
    "\n",
    "$ N|(\\sqrt{a^r} + 1)(\\sqrt{a^r} - 1)$\n",
    "\n",
    "or\n",
    "\n",
    "$ N|(a^\\frac{r}{2} + 1)(a^\\frac{r}{2} - 1)$   \n",
    "\n",
    "Note: If $r$ were odd we could not divide by 2 and get an integer\n",
    "\n",
    "from this equation we now know that any factor of N is also a factor of $(a^\\frac{r}{2} + 1)$\n",
    "or of $(a^\\frac{r}{2} - 1)$ or of both.\n",
    "\n",
    "So we can find the factors looking at:\n",
    "\n",
    "$GCD(a^\\frac{r}{2} + 1, N)$ \n",
    "\n",
    "or\n",
    "\n",
    "$GCD(a^\\frac{r}{2} + 1, N)$\n",
    "\n",
    "GCD can implement the classical Euclidean algorithm.\n",
    "\n",
    "\n",
    "**IMPORTANT:** $a^\\frac{r}{2} \\not\\equiv -1 \\text{ (mod N)}$ if so choose\n",
    "another $a$.\n",
    "\n"
   ]
  },
  {
   "cell_type": "markdown",
   "id": "fe7506e6",
   "metadata": {},
   "source": [
    "## Examples"
   ]
  },
  {
   "cell_type": "code",
   "execution_count": 22,
   "id": "107885fc",
   "metadata": {},
   "outputs": [
    {
     "name": "stdout",
     "output_type": "stream",
     "text": [
      "f_a_N= [1, 24, 205, 97, 102, 222, 134, 248, 16, 13, 312, 68, 148, 213, 289, 258, 256, 208, 169, 346, 142, 69, 172, 47, 15, 360, 107, 342, 46, 362, 155, 10, 240, 195, 228, 278, 365, 227, 254, 160, 130, 152, 309, 367, 275, 293, 354, 334, 225, 206, 121, 307, 319, 236, 99, 150, 261, 328, 81, 89, 281, 66, 100, 174, 95, 54, 183, 311, 44, 314, 116, 187, 36, 122, 331, 153, 333, 201, 1, 24, 205, 97, 102, 222, 134, 248, 16, 13, 312, 68, 148, 213, 289, 258, 256, 208, 169, 346, 142, 69, 172, 47, 15, 360, 107, 342, 46, 362, 155, 10, 240, 195, 228, 278, 365, 227, 254, 160, 130, 152, 309, 367, 275, 293, 354, 334, 225, 206, 121, 307, 319, 236, 99, 150, 261, 328, 81, 89, 281, 66, 100, 174, 95, 54, 183, 311, 44, 314, 116, 187, 36, 122, 331, 153, 333, 201, 1, 24, 205, 97, 102, 222, 134, 248, 16, 13, 312, 68, 148, 213, 289, 258, 256, 208, 169, 346, 142, 69, 172, 47, 15, 360, 107, 342, 46, 362, 155, 10, 240, 195, 228, 278, 365, 227, 254, 160, 130, 152, 309, 367, 275, 293, 354, 334, 225, 206, 121, 307, 319, 236, 99, 150, 261, 328, 81, 89, 281, 66, 100, 174, 95, 54, 183, 311, 44, 314, 116, 187, 36, 122, 331, 153, 333, 201, 1, 24, 205, 97, 102, 222, 134, 248, 16, 13, 312, 68, 148, 213, 289, 258, 256, 208, 169, 346, 142, 69, 172, 47, 15, 360, 107, 342, 46, 362, 155, 10, 240, 195, 228, 278, 365, 227, 254, 160, 130, 152, 309, 367, 275, 293, 354, 334, 225, 206, 121, 307, 319, 236, 99, 150, 261, 328, 81, 89, 281, 66, 100, 174, 95, 54, 183, 311, 44, 314, 116, 187, 36, 122, 331, 153, 333, 201, 1, 24, 205, 97, 102, 222, 134, 248, 16, 13, 312, 68, 148, 213, 289, 258, 256, 208, 169, 346, 142, 69, 172, 47, 15, 360, 107, 342, 46, 362, 155, 10, 240, 195, 228, 278, 365, 227, 254, 160, 130, 152, 309, 367, 275, 293, 354, 334, 225, 206, 121, 307, 319, 236, 99, 150, 261, 328, 81]\n",
      "period of f_a_N= 78\n",
      "a^(period/2) Mod N =  254.0\n",
      "(-1) Mod N=  370\n",
      "factor1=  1.0\n",
      "factor2=  1.0\n",
      "6.733462204819059e+53\n",
      "gcd(161,371)= 7\n",
      "We can do this because 160 congruent with 24^39\n"
     ]
    },
    {
     "data": {
      "image/png": "[encoded data removed]",
      "text/plain": [
       "<Figure size 640x480 with 1 Axes>"
      ]
     },
     "metadata": {},
     "output_type": "display_data"
    }
   ],
   "source": [
    "def findPeriod(a, N):\n",
    "    powers = powersAModuloNRecursive(a, N)\n",
    "    return powers.index(1,1)\n",
    "\n",
    "def gcd(a, b):\n",
    "    while b != 0:\n",
    "        t = b\n",
    "        b = a % b\n",
    "        a = t\n",
    "    return a\n",
    "\n",
    "if __name__ == '__main__':\n",
    "    N = 371\n",
    "    a = 24\n",
    "    powers_a_N = powersAModuloNRecursive(a,N)\n",
    "    xpoints = np.array(range(N))\n",
    "    ypoints = np.array(powers_a_N)\n",
    "\n",
    "    print(\"f_a_N=\", powers_a_N)\n",
    "    period = findPeriod(a, N)\n",
    "    print(\"period of f_a_N=\", period)\n",
    "\n",
    "    print(\"a^(period/2) Mod N = \", (a**(period/2)) % N)\n",
    "    print(\"(-1) Mod N= \",  (-1) % N)\n",
    "    print(\"factor1= \", gcd((a**(period/2)) + 1, N))\n",
    "    print(\"factor2= \", gcd((a**(period/2)) - 1, N))\n",
    "\n",
    "    print((a**(period/2)) +1)\n",
    "    print(\"gcd(161,371)=\",gcd(161,371))\n",
    "    print(\"We can do this because 160 congruent with 24^39\")\n",
    "\n",
    "    plt.bar(xpoints, ypoints)\n",
    "    plt.show()"
   ]
  },
  {
   "cell_type": "markdown",
   "id": "da3cba4f",
   "metadata": {},
   "source": [
    "## Exercise\n",
    "Compute the factors of $N=247$ using $a=2$"
   ]
  },
  {
   "cell_type": "markdown",
   "id": "16f60e07",
   "metadata": {},
   "source": [
    "# The quantum algorithm"
   ]
  },
  {
   "cell_type": "markdown",
   "id": "45c17f49",
   "metadata": {},
   "source": [
    "$a$ is always less than $N$ so we need $n=log_2 N$ qbits as output.\n",
    "\n",
    "We need to evaluate $f_{a,N}$ in at least $N^2$ values of $x$, so $m = log_2 N^2\n",
    "= 2 log_2 N = 2n$\n",
    "\n",
    "![Shor's algorithm!](images/shoralgorithm.jpg)"
   ]
  },
  {
   "cell_type": "markdown",
   "id": "7577f43c",
   "metadata": {},
   "source": [
    "$\\ket{\\psi_0} = \\ket{\\boldsymbol{0_m}, \\boldsymbol{0_n}}$"
   ]
  },
  {
   "cell_type": "markdown",
   "id": "85303656",
   "metadata": {},
   "source": [
    "$\\ket{\\psi_1} = \\frac{1}{\\sqrt{2^m}}\\sum_{x \\in \\{0,1\\}^n} \\ket{\\boldsymbol{x}, \\boldsymbol{0_n}}$"
   ]
  },
  {
   "cell_type": "markdown",
   "id": "2e02db7a",
   "metadata": {},
   "source": [
    "$\\ket{\\psi_2} = \\frac{1}{\\sqrt{2^m}} \\sum_{x \\in \\{0,1\\}^n} \\ket{\\boldsymbol{x}, f_{a,N}\\boldsymbol{x}}$"
   ]
  },
  {
   "cell_type": "markdown",
   "id": "fa773d07",
   "metadata": {},
   "source": [
    "$\\ket{\\psi_2} = \\frac{1}{\\sqrt{2^m}} \\sum_{x \\in \\{0,1\\}^n} \\ket{\\boldsymbol{x}, a^{\\boldsymbol{x}}\n",
    "\\mod N}$"
   ]
  },
  {
   "cell_type": "markdown",
   "id": "1a145704",
   "metadata": {},
   "source": [
    "## Ejercicio 3"
   ]
  },
  {
   "cell_type": "code",
   "execution_count": 23,
   "id": "78ca2ff5",
   "metadata": {},
   "outputs": [
    {
     "name": "stdout",
     "output_type": "stream",
     "text": [
      "f_a_N = [1, 2, 4, 8, 16, 32, 64, 128, 9, 18, 36, 72, 144, 41, 82, 164, 81, 162, 77, 154, 61, 122, 244, 241, 235, 223, 199, 151, 55, 110, 220, 193, 139, 31, 62, 124, 1, 2, 4, 8, 16, 32, 64, 128, 9, 18, 36, 72, 144, 41, 82, 164, 81, 162, 77, 154, 61, 122, 244, 241, 235, 223, 199, 151, 55, 110, 220, 193, 139, 31, 62, 124, 1, 2, 4, 8, 16, 32, 64, 128, 9, 18, 36, 72, 144, 41, 82, 164, 81, 162, 77, 154, 61, 122, 244, 241, 235, 223, 199, 151, 55, 110, 220, 193, 139, 31, 62, 124, 1, 2, 4, 8, 16, 32, 64, 128, 9, 18, 36, 72, 144, 41, 82, 164, 81, 162, 77, 154, 61, 122, 244, 241, 235, 223, 199, 151, 55, 110, 220, 193, 139, 31, 62, 124, 1, 2, 4, 8, 16, 32, 64, 128, 9, 18, 36, 72, 144, 41, 82, 164, 81, 162, 77, 154, 61, 122, 244, 241, 235, 223, 199, 151, 55, 110, 220, 193, 139, 31, 62, 124, 1, 2, 4, 8, 16, 32, 64, 128, 9, 18, 36, 72, 144, 41, 82, 164, 81, 162, 77, 154, 61, 122, 244, 241, 235, 223, 199, 151, 55, 110, 220, 193, 139, 31, 62, 124, 1, 2, 4, 8, 16, 32, 64, 128, 9, 18, 36, 72, 144, 41, 82, 164, 81, 162, 77, 154, 61, 122, 244, 241, 235, 223, 199, 151, 55, 110, 220]\n",
      "period of f_a_N = 36\n",
      "a^(period/2) mod N = 77\n",
      "factor1 = 13\n",
      "factor2 = 19\n"
     ]
    },
    {
     "data": {
      "image/png": "[encoded data removed]",
      "text/plain": [
       "<Figure size 640x480 with 1 Axes>"
      ]
     },
     "metadata": {},
     "output_type": "display_data"
    }
   ],
   "source": [
    "import numpy as np\n",
    "import matplotlib.pyplot as plt\n",
    "\n",
    "def powersAModuloNRecursive(a, N):\n",
    "    powers = []\n",
    "    x = 1\n",
    "    for _ in range(N):\n",
    "        powers.append(x)\n",
    "        x = (x * a) % N\n",
    "    return powers\n",
    "\n",
    "def findPeriod(a, N):\n",
    "    powers = powersAModuloNRecursive(a, N)\n",
    "    return powers.index(1, 1)\n",
    "\n",
    "def gcd(a, b):\n",
    "    while b != 0:\n",
    "        a, b = b, a % b\n",
    "    return a\n",
    "\n",
    "# Parámetros\n",
    "N = 247\n",
    "a = 2\n",
    "\n",
    "# Calcular potencias módulo N\n",
    "powers_a_N = powersAModuloNRecursive(a, N)\n",
    "xpoints = np.array(range(len(powers_a_N)))\n",
    "ypoints = np.array(powers_a_N)\n",
    "\n",
    "# Encontrar el período\n",
    "period = findPeriod(a, N)\n",
    "a_r_half_mod = pow(a, period // 2, N)\n",
    "factor1 = gcd(a_r_half_mod + 1, N)\n",
    "factor2 = gcd(a_r_half_mod - 1, N)\n",
    "\n",
    "# Mostrar resultados\n",
    "print(\"f_a_N =\", powers_a_N)\n",
    "print(\"period of f_a_N =\", period)\n",
    "print(\"a^(period/2) mod N =\", a_r_half_mod)\n",
    "print(\"factor1 =\", factor1)\n",
    "print(\"factor2 =\", factor2)\n",
    "\n",
    "# Graficar\n",
    "plt.bar(xpoints, ypoints)\n",
    "plt.title(f'Valores de $2^x$ mod 247 (Período = {period})')\n",
    "plt.xlabel('x')\n",
    "plt.ylabel('2^x mod 247')\n",
    "plt.grid(True)\n",
    "plt.tight_layout()\n",
    "plt.show()\n"
   ]
  },
  {
   "cell_type": "markdown",
   "id": "cec2cfac",
   "metadata": {},
   "source": [
    "## Conclusion:\n",
    "\n",
    "### Objetivo\n",
    "Simular la parte cuántica del algoritmo de Shor para factorizar el número $( N = 247 )$ usando la base $( a = 2 )$.\n",
    "\n",
    "---\n",
    "\n",
    "### Pasos seguidos\n",
    "\n",
    "1. Definir la función\n",
    "   Calculamos $( f(x) = 2^x \\mod 247 )$, que representa la acción del circuito cuántico.\n",
    "\n",
    "2. Encontrar el período $( r )$\n",
    "   Buscamos el menor entero $( r )$ tal que $( 2^r \\mod 247 = 1 )$.\n",
    "\n",
    "3. Verificar condiciones  \n",
    "   Aseguramos que:\n",
    "   - $( r )$ es par\n",
    "   - $( 2^{r/2} \\not\\equiv -1 \\mod 247 )$\n",
    "\n",
    "4. Obtener los factores  \n",
    "   Usamos:\n",
    "   $[\n",
    "   \\text{factor}_1 = \\gcd(2^{r/2} - 1, 247), \\quad \\text{factor}_2 = \\gcd(2^{r/2} + 1, 247)\n",
    "   ]$\n",
    "   para encontrar factores no triviales de 247.\n",
    "\n",
    "---\n",
    "\n",
    "### Resultado\n",
    "Esto simula la parte cuántica del algoritmo de Shor y permite encontrar factores de $( N = 247 )$ de forma eficiente sin probar divisores directamente.\n"
   ]
  },
  {
   "cell_type": "markdown",
   "id": "700e00e4",
   "metadata": {},
   "source": [
    "# Shor’s algorithm: \n",
    "Input: A positive integer N with n = [log2 N]. \n",
    "\n",
    "Output: A factor p of N if it exists. \n",
    "\n",
    "Step 1. Use a polynomial algorithm to determine if N is prime or a power of\n",
    "prime. If it is a prime, declare that it is and exit. If it is a power of a\n",
    "prime number, declare that it is and exit. \n",
    "\n",
    "Step 2. Randomly choose an integer a such that 1 < a< N. Perform Euclid’s\n",
    "algorithm to determine GCD(a, N). If the GCD is not 1, then return it and exit. \n",
    "\n",
    "Step 3. Use quantum circuit (6.166) to find a period r. \n",
    "\n",
    "Step 4. If r is odd or if ar ≡ −1 Mod N, then return to Step 2 and choose\n",
    "another a. \n",
    "\n",
    "Step 5. Use Euclid’s algorithm to calculate  and . Return at least one of the nontrivial solutions.\n"
   ]
  },
  {
   "cell_type": "markdown",
   "id": "425aa6cb",
   "metadata": {},
   "source": [
    "\n",
    "## Further Reading\n",
    "\n",
    "For those interested in diving deeper into Shor's algorithm and quantum computing, here are some resources:\n",
    "\n",
    "- Yanofsky, Noson S.; Mannucci, Mirco A.. Quantum Computing for Computer Scientists (English Edition) (p. 217). Cambridge University Press. Kindle Edition. \n",
    "- Nielsen, M. A., & Chuang, I. L. (2010). Quantum Computation and Quantum Information.\n",
    "- Kaye, P., Laflamme, R., & Mosca, M. (2007). An Introduction to Quantum Computing.\n",
    "- [Qiskit Documentation](https://qiskit.org/documentation/)\n"
   ]
  },
  {
   "cell_type": "markdown",
   "id": "b9b6000b",
   "metadata": {},
   "source": []
  }
 ],
 "metadata": {
  "kernelspec": {
   "display_name": ".venv",
   "language": "python",
   "name": "python3"
  },
  "language_info": {
   "codemirror_mode": {
    "name": "ipython",
    "version": 3
   },
   "file_extension": ".py",
   "mimetype": "text/x-python",
   "name": "python",
   "nbconvert_exporter": "python",
   "pygments_lexer": "ipython3",
   "version": "3.11.6"
  }
 },
 "nbformat": 4,
 "nbformat_minor": 5
}
